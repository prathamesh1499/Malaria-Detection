{
  "nbformat": 4,
  "nbformat_minor": 0,
  "metadata": {
    "colab": {
      "name": "MalariaDetection.ipynb",
      "provenance": [],
      "collapsed_sections": []
    },
    "kernelspec": {
      "name": "python3",
      "display_name": "Python 3"
    },
    "accelerator": "GPU"
  },
  "cells": [
    {
      "cell_type": "markdown",
      "metadata": {
        "id": "WVORsSFtjx-T",
        "colab_type": "text"
      },
      "source": [
        "Datasetlink - https://www.kaggle.com/iarunava/cell-images-for-detecting-malaria"
      ]
    },
    {
      "cell_type": "markdown",
      "metadata": {
        "id": "LM4tlOB1leg8",
        "colab_type": "text"
      },
      "source": [
        "The dataset contains 2 folders<br>\n",
        "\n",
        "*   Infected\n",
        "*   Uninfected\n",
        "\n",
        "And a total of **27,558** images."
      ]
    },
    {
      "cell_type": "markdown",
      "metadata": {
        "id": "2ZMdRJ_xmFz9",
        "colab_type": "text"
      },
      "source": [
        "Key  <br>\n",
        "In 2018, there were an estimated 228 million cases of malaria worldwide.<br>\n",
        "\n",
        "*   Malaria is a life-threatening disease caused by parasites that are transmitted to people through the bites of infected female Anopheles mosquitoes. It is preventable and curable.<br>\n",
        "\n",
        "*   The estimated number of malaria deaths stood at 405 000 in 2018.\n",
        "Children aged under 5 years are the most vulnerable group affected by malaria; in 2018, they accounted for 67% (272 000) of all malaria deaths worldwide.<br>\n",
        "\n",
        "*   The WHO African Region carries a disproportionately high share of the global malaria burden. In 2018, the region was home to 93% of malaria cases and 94% of malaria deaths.<br>\n",
        "\n",
        "*   Total funding for malaria control and elimination reached an estimated US 2.7 billion dollars in 2018. Contributions from governments of endemic countries amounted to US $ 900 million, representing 30% of total funding.\n",
        "\n",
        "\n"
      ]
    },
    {
      "cell_type": "markdown",
      "metadata": {
        "id": "Q4NMveOjmmVn",
        "colab_type": "text"
      },
      "source": [
        "**********************************************************************************************************************************************"
      ]
    },
    {
      "cell_type": "markdown",
      "metadata": {
        "id": "Ap1stuSxnvQA",
        "colab_type": "text"
      },
      "source": [
        "# In this colab we are gonna see 2 ways for malaria Detection 1) using ImageDataGenrator  2) using a Basic method of passing an ndarray "
      ]
    },
    {
      "cell_type": "markdown",
      "metadata": {
        "id": "DwoP_-TIntBs",
        "colab_type": "text"
      },
      "source": [
        "**********************************************************************************************************************************************"
      ]
    },
    {
      "cell_type": "markdown",
      "metadata": {
        "id": "98xoHHDSnSKG",
        "colab_type": "text"
      },
      "source": [
        "Steps to be done if user wants to download the data directly into google colab"
      ]
    },
    {
      "cell_type": "code",
      "metadata": {
        "id": "5WOpsRn4NqbY",
        "colab_type": "code",
        "colab": {}
      },
      "source": [
        "!pip install -q kaggle"
      ],
      "execution_count": 0,
      "outputs": []
    },
    {
      "cell_type": "code",
      "metadata": {
        "id": "Qc5FdPlwPXvX",
        "colab_type": "code",
        "colab": {}
      },
      "source": [
        "!mkdir -p ~/.kaggle"
      ],
      "execution_count": 0,
      "outputs": []
    },
    {
      "cell_type": "code",
      "metadata": {
        "id": "lAB0ftTCPhq_",
        "colab_type": "code",
        "colab": {}
      },
      "source": [
        "!cp kaggle.json ~/.kaggle"
      ],
      "execution_count": 0,
      "outputs": []
    },
    {
      "cell_type": "code",
      "metadata": {
        "id": "PwPpAar_PwAL",
        "colab_type": "code",
        "colab": {}
      },
      "source": [
        "!chmod 600 ~/.kaggle/kaggle.json"
      ],
      "execution_count": 0,
      "outputs": []
    },
    {
      "cell_type": "markdown",
      "metadata": {
        "id": "g41i1l4jP8up",
        "colab_type": "text"
      },
      "source": [
        "using dataset's api to download it in colab "
      ]
    },
    {
      "cell_type": "code",
      "metadata": {
        "id": "EqnOJWUwP0H1",
        "colab_type": "code",
        "colab": {
          "base_uri": "https://localhost:8080/",
          "height": 70
        },
        "outputId": "39c79925-1ded-46f7-ecae-ef3274dde9c9"
      },
      "source": [
        "!kaggle datasets download -d iarunava/cell-images-for-detecting-malaria"
      ],
      "execution_count": 6,
      "outputs": [
        {
          "output_type": "stream",
          "text": [
            "Downloading cell-images-for-detecting-malaria.zip to /content\n",
            "100% 673M/675M [00:19<00:00, 41.3MB/s]\n",
            "100% 675M/675M [00:19<00:00, 37.0MB/s]\n"
          ],
          "name": "stdout"
        }
      ]
    },
    {
      "cell_type": "code",
      "metadata": {
        "id": "MGF85CcBP4II",
        "colab_type": "code",
        "colab": {}
      },
      "source": [
        "!mkdir malaria-datasets # making a directory for datasets"
      ],
      "execution_count": 0,
      "outputs": []
    },
    {
      "cell_type": "code",
      "metadata": {
        "id": "oebqFHdrQGC_",
        "colab_type": "code",
        "colab": {}
      },
      "source": [
        "!unzip cell-images-for-detecting-malaria.zip -d malaria-datasets # unzipping it"
      ],
      "execution_count": 0,
      "outputs": []
    },
    {
      "cell_type": "markdown",
      "metadata": {
        "id": "CR0ZT-kHnRQa",
        "colab_type": "text"
      },
      "source": [
        "* ignore the next 3 steps if the unzip is done properly !!*\n"
      ]
    },
    {
      "cell_type": "code",
      "metadata": {
        "id": "zHY4LO8ithDR",
        "colab_type": "code",
        "colab": {}
      },
      "source": [
        "!mkdir MALARIA_DATA"
      ],
      "execution_count": 0,
      "outputs": []
    },
    {
      "cell_type": "code",
      "metadata": {
        "id": "M8u9vJZbtpR_",
        "colab_type": "code",
        "colab": {}
      },
      "source": [
        "!mv \"/content/malaria-datasets/cell_images/cell_images/Parasitized\" \"/content/MALARIA_DATA\""
      ],
      "execution_count": 0,
      "outputs": []
    },
    {
      "cell_type": "code",
      "metadata": {
        "id": "8A-QRMuStxLK",
        "colab_type": "code",
        "colab": {}
      },
      "source": [
        "!mv \"/content/malaria-datasets/cell_images/cell_images/Uninfected\" \"/content/MALARIA_DATA\""
      ],
      "execution_count": 0,
      "outputs": []
    },
    {
      "cell_type": "markdown",
      "metadata": {
        "id": "eeGZRuH1t-M_",
        "colab_type": "text"
      },
      "source": [
        "We install gpu now!"
      ]
    },
    {
      "cell_type": "code",
      "metadata": {
        "id": "yCHIIsW1t5IA",
        "colab_type": "code",
        "colab": {
          "base_uri": "https://localhost:8080/",
          "height": 552
        },
        "outputId": "c4d98841-e1a5-4f23-8749-3bc0b50a7101"
      },
      "source": [
        "!pip install tensorflow-gpu==2.0.0-rc0"
      ],
      "execution_count": 12,
      "outputs": [
        {
          "output_type": "stream",
          "text": [
            "Collecting tensorflow-gpu==2.0.0-rc0\n",
            "\u001b[?25l  Downloading https://files.pythonhosted.org/packages/6a/12/8c64cc62149cc21c70c55018502831bbf4d42bd62bed196df7de6830d21b/tensorflow_gpu-2.0.0rc0-cp36-cp36m-manylinux2010_x86_64.whl (380.5MB)\n",
            "\u001b[K     |████████████████████████████████| 380.5MB 43kB/s \n",
            "\u001b[?25hRequirement already satisfied: google-pasta>=0.1.6 in /usr/local/lib/python3.6/dist-packages (from tensorflow-gpu==2.0.0-rc0) (0.2.0)\n",
            "Requirement already satisfied: protobuf>=3.6.1 in /usr/local/lib/python3.6/dist-packages (from tensorflow-gpu==2.0.0-rc0) (3.10.0)\n",
            "Collecting tb-nightly<1.15.0a20190807,>=1.15.0a20190806\n",
            "\u001b[?25l  Downloading https://files.pythonhosted.org/packages/bc/88/24b5fb7280e74c7cf65bde47c171547fd02afb3840cff41bcbe9270650f5/tb_nightly-1.15.0a20190806-py3-none-any.whl (4.3MB)\n",
            "\u001b[K     |████████████████████████████████| 4.3MB 54.5MB/s \n",
            "\u001b[?25hRequirement already satisfied: grpcio>=1.8.6 in /usr/local/lib/python3.6/dist-packages (from tensorflow-gpu==2.0.0-rc0) (1.28.1)\n",
            "Requirement already satisfied: wheel>=0.26 in /usr/local/lib/python3.6/dist-packages (from tensorflow-gpu==2.0.0-rc0) (0.34.2)\n",
            "Requirement already satisfied: astor>=0.6.0 in /usr/local/lib/python3.6/dist-packages (from tensorflow-gpu==2.0.0-rc0) (0.8.1)\n",
            "Collecting tf-estimator-nightly<1.14.0.dev2019080602,>=1.14.0.dev2019080601\n",
            "\u001b[?25l  Downloading https://files.pythonhosted.org/packages/21/28/f2a27a62943d5f041e4a6fd404b2d21cb7c59b2242a4e73b03d9ba166552/tf_estimator_nightly-1.14.0.dev2019080601-py2.py3-none-any.whl (501kB)\n",
            "\u001b[K     |████████████████████████████████| 501kB 52.9MB/s \n",
            "\u001b[?25hRequirement already satisfied: numpy<2.0,>=1.16.0 in /usr/local/lib/python3.6/dist-packages (from tensorflow-gpu==2.0.0-rc0) (1.18.3)\n",
            "Requirement already satisfied: termcolor>=1.1.0 in /usr/local/lib/python3.6/dist-packages (from tensorflow-gpu==2.0.0-rc0) (1.1.0)\n",
            "Requirement already satisfied: opt-einsum>=2.3.2 in /usr/local/lib/python3.6/dist-packages (from tensorflow-gpu==2.0.0-rc0) (3.2.1)\n",
            "Requirement already satisfied: wrapt>=1.11.1 in /usr/local/lib/python3.6/dist-packages (from tensorflow-gpu==2.0.0-rc0) (1.12.1)\n",
            "Requirement already satisfied: six>=1.10.0 in /usr/local/lib/python3.6/dist-packages (from tensorflow-gpu==2.0.0-rc0) (1.12.0)\n",
            "Requirement already satisfied: keras-preprocessing>=1.0.5 in /usr/local/lib/python3.6/dist-packages (from tensorflow-gpu==2.0.0-rc0) (1.1.0)\n",
            "Requirement already satisfied: keras-applications>=1.0.8 in /usr/local/lib/python3.6/dist-packages (from tensorflow-gpu==2.0.0-rc0) (1.0.8)\n",
            "Requirement already satisfied: gast>=0.2.0 in /usr/local/lib/python3.6/dist-packages (from tensorflow-gpu==2.0.0-rc0) (0.3.3)\n",
            "Requirement already satisfied: absl-py>=0.7.0 in /usr/local/lib/python3.6/dist-packages (from tensorflow-gpu==2.0.0-rc0) (0.9.0)\n",
            "Requirement already satisfied: setuptools in /usr/local/lib/python3.6/dist-packages (from protobuf>=3.6.1->tensorflow-gpu==2.0.0-rc0) (46.1.3)\n",
            "Requirement already satisfied: werkzeug>=0.11.15 in /usr/local/lib/python3.6/dist-packages (from tb-nightly<1.15.0a20190807,>=1.15.0a20190806->tensorflow-gpu==2.0.0-rc0) (1.0.1)\n",
            "Requirement already satisfied: markdown>=2.6.8 in /usr/local/lib/python3.6/dist-packages (from tb-nightly<1.15.0a20190807,>=1.15.0a20190806->tensorflow-gpu==2.0.0-rc0) (3.2.1)\n",
            "Requirement already satisfied: h5py in /usr/local/lib/python3.6/dist-packages (from keras-applications>=1.0.8->tensorflow-gpu==2.0.0-rc0) (2.10.0)\n",
            "Installing collected packages: tb-nightly, tf-estimator-nightly, tensorflow-gpu\n",
            "Successfully installed tb-nightly-1.15.0a20190806 tensorflow-gpu-2.0.0rc0 tf-estimator-nightly-1.14.0.dev2019080601\n"
          ],
          "name": "stdout"
        }
      ]
    },
    {
      "cell_type": "markdown",
      "metadata": {
        "id": "P-F7GxsCvCn0",
        "colab_type": "text"
      },
      "source": [
        "#### Since we are gonna work on images we use ImageDataGenerator <br>\n",
        "\n",
        "### Remeber we can also choose a method where in we can convert the images into #Ndarrays . "
      ]
    },
    {
      "cell_type": "code",
      "metadata": {
        "id": "pHaRgj2WuaV6",
        "colab_type": "code",
        "colab": {
          "base_uri": "https://localhost:8080/",
          "height": 34
        },
        "outputId": "01cc78c2-ca53-4bb3-ecdd-dca20570f9c2"
      },
      "source": [
        "import tensorflow as tf \n",
        "from tensorflow.keras import Sequential\n",
        "from tensorflow.keras.layers import Flatten, Dense, Conv2D, MaxPool2D, Dropout\n",
        "\n",
        "from tensorflow.keras.preprocessing.image import ImageDataGenerator\n",
        "\n",
        "print(tf.__version__)"
      ],
      "execution_count": 13,
      "outputs": [
        {
          "output_type": "stream",
          "text": [
            "2.0.0-rc0\n"
          ],
          "name": "stdout"
        }
      ]
    },
    {
      "cell_type": "code",
      "metadata": {
        "id": "Ds2-E2GEva2m",
        "colab_type": "code",
        "colab": {}
      },
      "source": [
        "import numpy as np \n",
        "import matplotlib.pyplot as plt"
      ],
      "execution_count": 0,
      "outputs": []
    },
    {
      "cell_type": "code",
      "metadata": {
        "id": "0-_Y9g2XvleQ",
        "colab_type": "code",
        "colab": {}
      },
      "source": [
        "img_width = 100\n",
        "img_height = 100     # we will use this to resize the image"
      ],
      "execution_count": 0,
      "outputs": []
    },
    {
      "cell_type": "code",
      "metadata": {
        "id": "PKW91wMnv44Z",
        "colab_type": "code",
        "colab": {}
      },
      "source": [
        "datagen = ImageDataGenerator(rescale=1/255.0,validation_split=0.2) # rescaling pixels"
      ],
      "execution_count": 0,
      "outputs": []
    },
    {
      "cell_type": "markdown",
      "metadata": {
        "id": "5bmXVNTOwdiU",
        "colab_type": "text"
      },
      "source": [
        "Now using ImageDatagen we will make trainset of data & validation set"
      ]
    },
    {
      "cell_type": "code",
      "metadata": {
        "id": "rIpSWyxZwZOH",
        "colab_type": "code",
        "colab": {
          "base_uri": "https://localhost:8080/",
          "height": 34
        },
        "outputId": "020f93b6-0e31-4b51-e5ec-15298b597774"
      },
      "source": [
        "train_data_generator = datagen.flow_from_directory(directory='/content/MALARIA_DATA',\n",
        "                                                   target_size=(img_height,img_width),\n",
        "                                                   class_mode='binary',       # as only 2 classes para of uninfe\n",
        "                                                   batch_size=16,             # batchsize of 16\n",
        "                                                   subset = 'training') "
      ],
      "execution_count": 17,
      "outputs": [
        {
          "output_type": "stream",
          "text": [
            "Found 22048 images belonging to 2 classes.\n"
          ],
          "name": "stdout"
        }
      ]
    },
    {
      "cell_type": "code",
      "metadata": {
        "id": "Ke7jN3i5wWQn",
        "colab_type": "code",
        "colab": {
          "base_uri": "https://localhost:8080/",
          "height": 34
        },
        "outputId": "741729f4-518b-4ca6-fa16-c0dc9497b41c"
      },
      "source": [
        "validation_data_generator = datagen.flow_from_directory(directory='/content/MALARIA_DATA',\n",
        "                                                   target_size=(img_height,img_width),\n",
        "                                                   class_mode='binary',       # as only 2 classes para of uninfe\n",
        "                                                   batch_size=16,             # batchsize of 16\n",
        "                                                   subset = 'validation') "
      ],
      "execution_count": 18,
      "outputs": [
        {
          "output_type": "stream",
          "text": [
            "Found 5510 images belonging to 2 classes.\n"
          ],
          "name": "stdout"
        }
      ]
    },
    {
      "cell_type": "markdown",
      "metadata": {
        "id": "ndTVzZzNyGrw",
        "colab_type": "text"
      },
      "source": [
        "# Now CNN model "
      ]
    },
    {
      "cell_type": "code",
      "metadata": {
        "id": "JSYAU6yqx650",
        "colab_type": "code",
        "colab": {}
      },
      "source": [
        "model = Sequential()\n",
        "\n",
        "model.add(Conv2D(filters=16,kernel_size=(3, 3),input_shape=(img_width,img_height,3),activation='relu'))  #input layer + input shape (3) as rgb\n",
        "model.add(MaxPool2D(pool_size=(2,2)))\n",
        "model.add(Dropout(0.1))  # dropping 10% of neurons\n",
        "\n",
        "model.add(Conv2D(filters=32,kernel_size=(3, 3),activation='relu')) \n",
        "model.add(MaxPool2D(pool_size=(2,2)))\n",
        "model.add(Dropout(0.3))\n",
        "\n",
        "model.add(Flatten())\n",
        "model.add(Dense(units=64, activation='relu'))  \n",
        "model.add(Dropout(0.5))\n",
        "\n",
        "model.add(Dense(units=1, activation='sigmoid')) # output layer and we want to predict 1 class of the 2 so unit=1 and sigmoid activ.."
      ],
      "execution_count": 0,
      "outputs": []
    },
    {
      "cell_type": "code",
      "metadata": {
        "id": "jnxE5siqx624",
        "colab_type": "code",
        "colab": {
          "base_uri": "https://localhost:8080/",
          "height": 514
        },
        "outputId": "0c5061c2-0467-43cd-c322-47881c63c229"
      },
      "source": [
        "model.summary()"
      ],
      "execution_count": 20,
      "outputs": [
        {
          "output_type": "stream",
          "text": [
            "Model: \"sequential\"\n",
            "_________________________________________________________________\n",
            "Layer (type)                 Output Shape              Param #   \n",
            "=================================================================\n",
            "conv2d (Conv2D)              (None, 98, 98, 16)        448       \n",
            "_________________________________________________________________\n",
            "max_pooling2d (MaxPooling2D) (None, 49, 49, 16)        0         \n",
            "_________________________________________________________________\n",
            "dropout (Dropout)            (None, 49, 49, 16)        0         \n",
            "_________________________________________________________________\n",
            "conv2d_1 (Conv2D)            (None, 47, 47, 32)        4640      \n",
            "_________________________________________________________________\n",
            "max_pooling2d_1 (MaxPooling2 (None, 23, 23, 32)        0         \n",
            "_________________________________________________________________\n",
            "dropout_1 (Dropout)          (None, 23, 23, 32)        0         \n",
            "_________________________________________________________________\n",
            "flatten (Flatten)            (None, 16928)             0         \n",
            "_________________________________________________________________\n",
            "dense (Dense)                (None, 64)                1083456   \n",
            "_________________________________________________________________\n",
            "dropout_2 (Dropout)          (None, 64)                0         \n",
            "_________________________________________________________________\n",
            "dense_1 (Dense)              (None, 1)                 65        \n",
            "=================================================================\n",
            "Total params: 1,088,609\n",
            "Trainable params: 1,088,609\n",
            "Non-trainable params: 0\n",
            "_________________________________________________________________\n"
          ],
          "name": "stdout"
        }
      ]
    },
    {
      "cell_type": "markdown",
      "metadata": {
        "id": "oSmiskCc0QJq",
        "colab_type": "text"
      },
      "source": [
        "Compile time for model"
      ]
    },
    {
      "cell_type": "code",
      "metadata": {
        "id": "n_fqyQ4Rx4n6",
        "colab_type": "code",
        "colab": {}
      },
      "source": [
        "model.compile(optimizer='adam',loss='binary_crossentropy',metrics=['accuracy'])"
      ],
      "execution_count": 0,
      "outputs": []
    },
    {
      "cell_type": "markdown",
      "metadata": {
        "id": "wB0NaiDN0fKI",
        "colab_type": "text"
      },
      "source": [
        "As we used imagedatagenerator now we use model.fit_generator instead of mode.fit"
      ]
    },
    {
      "cell_type": "code",
      "metadata": {
        "id": "lMqGTK-r0at8",
        "colab_type": "code",
        "colab": {
          "base_uri": "https://localhost:8080/",
          "height": 267
        },
        "outputId": "36f1f8ea-0126-40ab-9a18-fd46e296190c"
      },
      "source": [
        "history = model.fit_generator(generator=train_data_generator,\n",
        "                            \n",
        "                             steps_per_epoch = len(train_data_generator),\n",
        "                              epochs = 5,\n",
        "                              validation_data = validation_data_generator,\n",
        "                              validation_steps = len(validation_data_generator))"
      ],
      "execution_count": 22,
      "outputs": [
        {
          "output_type": "stream",
          "text": [
            "Epoch 1/5\n",
            "WARNING:tensorflow:From /usr/local/lib/python3.6/dist-packages/tensorflow_core/python/ops/math_grad.py:1394: where (from tensorflow.python.ops.array_ops) is deprecated and will be removed in a future version.\n",
            "Instructions for updating:\n",
            "Use tf.where in 2.0, which has the same broadcast rule as np.where\n",
            "1378/1378 [==============================] - 72s 52ms/step - loss: 0.5375 - accuracy: 0.7390 - val_loss: 0.2901 - val_accuracy: 0.9151\n",
            "Epoch 2/5\n",
            "1378/1378 [==============================] - 64s 47ms/step - loss: 0.2417 - accuracy: 0.9245 - val_loss: 0.1991 - val_accuracy: 0.9323\n",
            "Epoch 3/5\n",
            "1378/1378 [==============================] - 63s 46ms/step - loss: 0.2082 - accuracy: 0.9283 - val_loss: 0.2134 - val_accuracy: 0.9301\n",
            "Epoch 4/5\n",
            "1378/1378 [==============================] - 63s 46ms/step - loss: 0.1927 - accuracy: 0.9334 - val_loss: 0.1938 - val_accuracy: 0.9365\n",
            "Epoch 5/5\n",
            "1378/1378 [==============================] - 62s 45ms/step - loss: 0.1759 - accuracy: 0.9456 - val_loss: 0.1849 - val_accuracy: 0.9394\n"
          ],
          "name": "stdout"
        }
      ]
    },
    {
      "cell_type": "markdown",
      "metadata": {
        "id": "aCZ0bRab28ot",
        "colab_type": "text"
      },
      "source": [
        "we got a pretty god accuracy further in the notebook we will make another model to see if accuracy increases or not using batchnormalization and changing some parameters"
      ]
    },
    {
      "cell_type": "markdown",
      "metadata": {
        "id": "dB1CNlDV1xJZ",
        "colab_type": "text"
      },
      "source": [
        "# Plotting the curve"
      ]
    },
    {
      "cell_type": "code",
      "metadata": {
        "id": "FBRG0ej_14on",
        "colab_type": "code",
        "colab": {
          "base_uri": "https://localhost:8080/",
          "height": 230
        },
        "outputId": "209ffe01-0ce6-451b-a926-a255f707b183"
      },
      "source": [
        "history.history"
      ],
      "execution_count": 23,
      "outputs": [
        {
          "output_type": "execute_result",
          "data": {
            "text/plain": [
              "{'accuracy': [0.73897856, 0.92448294, 0.92833817, 0.9333726, 0.9456186],\n",
              " 'loss': [0.5374546185763031,\n",
              "  0.24166876688486044,\n",
              "  0.20824902438787077,\n",
              "  0.19274949662269772,\n",
              "  0.17585610335521099],\n",
              " 'val_accuracy': [0.9150635, 0.9323049, 0.930127, 0.93647915, 0.9393829],\n",
              " 'val_loss': [0.2900863066315651,\n",
              "  0.1991415487575358,\n",
              "  0.21343845899986183,\n",
              "  0.19384415325155294,\n",
              "  0.18488393649458884]}"
            ]
          },
          "metadata": {
            "tags": []
          },
          "execution_count": 23
        }
      ]
    },
    {
      "cell_type": "code",
      "metadata": {
        "id": "QYm4jFPW1iky",
        "colab_type": "code",
        "colab": {}
      },
      "source": [
        "def plot_learningcurve(history, epochs):\n",
        "  epochs_range = (1, epochs+1)\n",
        "  plt.plot(history.history['accuracy'],)\n",
        "  plt.plot(history.history['val_accuracy'])\n",
        "  plt.title('Model accuracy',color = 'white')\n",
        "  plt.ylabel('Accuracy',color = 'white')\n",
        "  plt.xlabel('Epoch',color = 'white')\n",
        "  plt.legend(['Train','Val'],loc = 'upper left')\n",
        "  plt.show()\n",
        "\n",
        "  print('* *'*50)\n",
        "  #plot training and validation ( loss values )\n",
        "  plt.plot(history.history['loss'])\n",
        "  plt.plot(history.history['val_loss'])\n",
        "  plt.title('Model loss',color = 'white')\n",
        "  plt.ylabel('Loss',color = 'white')\n",
        "  plt.xlabel('Epoch',color = 'white')\n",
        "  plt.legend(['Train','Val'],loc = 'upper left')\n",
        "  plt.show()"
      ],
      "execution_count": 0,
      "outputs": []
    },
    {
      "cell_type": "code",
      "metadata": {
        "id": "gm4MXEeZ3Lkp",
        "colab_type": "code",
        "colab": {
          "base_uri": "https://localhost:8080/",
          "height": 611
        },
        "outputId": "ff3907b2-508d-4a91-b48a-a055e14f148c"
      },
      "source": [
        "plot_learningcurve(history, 5)"
      ],
      "execution_count": 25,
      "outputs": [
        {
          "output_type": "display_data",
          "data": {
            "image/png": "[encoded data removed]",
            "text/plain": [
              "<Figure size 432x288 with 1 Axes>"
            ]
          },
          "metadata": {
            "tags": [],
            "needs_background": "light"
          }
        },
        {
          "output_type": "stream",
          "text": [
            "* ** ** ** ** ** ** ** ** ** ** ** ** ** ** ** ** ** ** ** ** ** ** ** ** ** ** ** ** ** ** ** ** ** ** ** ** ** ** ** ** ** ** ** ** ** ** ** ** ** *\n"
          ],
          "name": "stdout"
        },
        {
          "output_type": "display_data",
          "data": {
            "image/png": "[encoded data removed]",
            "text/plain": [
              "<Figure size 432x288 with 1 Axes>"
            ]
          },
          "metadata": {
            "tags": [],
            "needs_background": "light"
          }
        }
      ]
    },
    {
      "cell_type": "code",
      "metadata": {
        "id": "37XeZfZG4BeL",
        "colab_type": "code",
        "colab": {}
      },
      "source": [
        "img = plt.imread('/content/para.png')"
      ],
      "execution_count": 0,
      "outputs": []
    },
    {
      "cell_type": "code",
      "metadata": {
        "id": "cEdUC9hO3p6X",
        "colab_type": "code",
        "colab": {
          "base_uri": "https://localhost:8080/",
          "height": 286
        },
        "outputId": "bb7ffdd0-2e6f-4593-a2ad-a1fc2d587cc8"
      },
      "source": [
        "plt.imshow(img)"
      ],
      "execution_count": 27,
      "outputs": [
        {
          "output_type": "execute_result",
          "data": {
            "text/plain": [
              "<matplotlib.image.AxesImage at 0x7f5620053a20>"
            ]
          },
          "metadata": {
            "tags": []
          },
          "execution_count": 27
        },
        {
          "output_type": "display_data",
          "data": {
            "image/png": "[encoded data removed]",
            "text/plain": [
              "<Figure size 432x288 with 1 Axes>"
            ]
          },
          "metadata": {
            "tags": [],
            "needs_background": "light"
          }
        }
      ]
    },
    {
      "cell_type": "code",
      "metadata": {
        "id": "gcE1QPao9aMz",
        "colab_type": "code",
        "colab": {}
      },
      "source": [
        "from PIL import Image"
      ],
      "execution_count": 0,
      "outputs": []
    },
    {
      "cell_type": "code",
      "metadata": {
        "id": "THszcaujD9L5",
        "colab_type": "code",
        "colab": {
          "base_uri": "https://localhost:8080/",
          "height": 34
        },
        "outputId": "d24783c6-657d-47fd-e3f2-386811dcb261"
      },
      "source": [
        "test = tf.cast(test, tf.float32)\n",
        "test.shape"
      ],
      "execution_count": 35,
      "outputs": [
        {
          "output_type": "execute_result",
          "data": {
            "text/plain": [
              "TensorShape([1, 100, 100, 3])"
            ]
          },
          "metadata": {
            "tags": []
          },
          "execution_count": 35
        }
      ]
    },
    {
      "cell_type": "code",
      "metadata": {
        "id": "4maC0v3TRThA",
        "colab_type": "code",
        "colab": {}
      },
      "source": [
        "def to_pred():\n",
        "  path_test = input(\"Copy the path of image here\")\n",
        "  IMG = Image.open(path_test)\n",
        "  X = IMG.resize(size=(100,100))\n",
        "  I = np.array(X)\n",
        "  test = I.reshape(1,100,100,3)\n",
        "  test = tf.cast(test, tf.float32)\n",
        "  return test\n"
      ],
      "execution_count": 0,
      "outputs": []
    },
    {
      "cell_type": "code",
      "metadata": {
        "id": "PVywL5wY3Pk9",
        "colab_type": "code",
        "colab": {
          "base_uri": "https://localhost:8080/",
          "height": 52
        },
        "outputId": "98ea6e2d-4bf8-4147-ecb0-3782e4a99c99"
      },
      "source": [
        "model.predict(to_pred()) # it will ask to give a path of input image for testing"
      ],
      "execution_count": 117,
      "outputs": [
        {
          "output_type": "stream",
          "text": [
            "Copy the path of image here/content/para.png\n"
          ],
          "name": "stdout"
        },
        {
          "output_type": "execute_result",
          "data": {
            "text/plain": [
              "array([[0.]], dtype=float32)"
            ]
          },
          "metadata": {
            "tags": []
          },
          "execution_count": 117
        }
      ]
    },
    {
      "cell_type": "markdown",
      "metadata": {
        "id": "gZCwo8XTM-dd",
        "colab_type": "text"
      },
      "source": [
        "1 means it says class 1 ie Uninfected and if 0 it means parasitized or infected"
      ]
    },
    {
      "cell_type": "markdown",
      "metadata": {
        "id": "G3SbySmjWGbk",
        "colab_type": "text"
      },
      "source": [
        "**********************************************************************************************************************************************"
      ]
    },
    {
      "cell_type": "markdown",
      "metadata": {
        "id": "cFZe7t0pWGX0",
        "colab_type": "text"
      },
      "source": [
        "**********************************************************************************************************************************************"
      ]
    },
    {
      "cell_type": "markdown",
      "metadata": {
        "id": "GQF8wra4WGVz",
        "colab_type": "text"
      },
      "source": [
        "Now we use a different method to build a model and predict it "
      ]
    },
    {
      "cell_type": "code",
      "metadata": {
        "id": "CLE6OwhCG3Ue",
        "colab_type": "code",
        "colab": {}
      },
      "source": [
        "import cv2\n",
        "import os "
      ],
      "execution_count": 0,
      "outputs": []
    },
    {
      "cell_type": "code",
      "metadata": {
        "id": "xdfrD6Y6UTm1",
        "colab_type": "code",
        "colab": {
          "base_uri": "https://localhost:8080/",
          "height": 268
        },
        "outputId": "32702036-1e7d-4932-b401-1cee8dbc6113"
      },
      "source": [
        "datadir = \"/content/MALARIA_DATA\"\n",
        "categories = [\"Parasitized\", \"Uninfected\"]\n",
        "\n",
        "for category in categories:\n",
        "  path = os.path.join(datadir,category)\n",
        "  for img in os.listdir(path):\n",
        "    img_array = cv2.imread(os.path.join(path,img))\n",
        "    plt.imshow(img_array)\n",
        "    plt.show()\n",
        "    break\n",
        "  break"
      ],
      "execution_count": 73,
      "outputs": [
        {
          "output_type": "display_data",
          "data": {
            "image/png": "[encoded data removed]",
            "text/plain": [
              "<Figure size 432x288 with 1 Axes>"
            ]
          },
          "metadata": {
            "tags": [],
            "needs_background": "light"
          }
        }
      ]
    },
    {
      "cell_type": "code",
      "metadata": {
        "id": "5F6ciTVjUrct",
        "colab_type": "code",
        "colab": {
          "base_uri": "https://localhost:8080/",
          "height": 34
        },
        "outputId": "4061bfa8-f41a-407d-ba2a-71b40059a7e4"
      },
      "source": [
        "img_array.shape"
      ],
      "execution_count": 74,
      "outputs": [
        {
          "output_type": "execute_result",
          "data": {
            "text/plain": [
              "(130, 157, 3)"
            ]
          },
          "metadata": {
            "tags": []
          },
          "execution_count": 74
        }
      ]
    },
    {
      "cell_type": "code",
      "metadata": {
        "id": "s_Z6H-2qVWFE",
        "colab_type": "code",
        "colab": {
          "base_uri": "https://localhost:8080/",
          "height": 267
        },
        "outputId": "db99569e-0829-4252-e01b-ab6086eb2572"
      },
      "source": [
        "img_size = 100\n",
        "\n",
        "new_array = cv2.resize(img_array,(img_size,img_size))\n",
        "plt.imshow(new_array)\n",
        "plt.show()"
      ],
      "execution_count": 75,
      "outputs": [
        {
          "output_type": "display_data",
          "data": {
            "image/png": "[encoded data removed]",
            "text/plain": [
              "<Figure size 432x288 with 1 Axes>"
            ]
          },
          "metadata": {
            "tags": [],
            "needs_background": "light"
          }
        }
      ]
    },
    {
      "cell_type": "code",
      "metadata": {
        "id": "HKQaf2NvVapq",
        "colab_type": "code",
        "colab": {}
      },
      "source": [
        "training_Data = []\n",
        "\n",
        "def training_data():\n",
        "  for category in categories:\n",
        "    path = os.path.join(datadir,category)\n",
        "    class_num = categories.index(category)\n",
        "    for img in os.listdir(path):\n",
        "      try:\n",
        "        img_array = cv2.imread(os.path.join(path,img))\n",
        "        new_array = cv2.resize(img_array,(img_size,img_size))\n",
        "        training_Data.append([new_array,class_num])\n",
        "      except Exception as e:\n",
        "        pass \n",
        "            \n",
        "training_data()"
      ],
      "execution_count": 0,
      "outputs": []
    },
    {
      "cell_type": "code",
      "metadata": {
        "id": "prCWQyPQVrDL",
        "colab_type": "code",
        "colab": {
          "base_uri": "https://localhost:8080/",
          "height": 34
        },
        "outputId": "8eb5a8b8-cf4c-4b22-d9f4-0bf0d7086b28"
      },
      "source": [
        "len(training_Data)"
      ],
      "execution_count": 77,
      "outputs": [
        {
          "output_type": "execute_result",
          "data": {
            "text/plain": [
              "27558"
            ]
          },
          "metadata": {
            "tags": []
          },
          "execution_count": 77
        }
      ]
    },
    {
      "cell_type": "code",
      "metadata": {
        "id": "evvSQg3YVyie",
        "colab_type": "code",
        "colab": {}
      },
      "source": [
        "import random \n",
        "random.shuffle(training_Data)   # we shuffle the data .. so network will take efforts to learn"
      ],
      "execution_count": 0,
      "outputs": []
    },
    {
      "cell_type": "code",
      "metadata": {
        "id": "Xyp_5AfNV7HF",
        "colab_type": "code",
        "colab": {}
      },
      "source": [
        "for sample in training_Data:\n",
        "    print(sample[1])"
      ],
      "execution_count": 0,
      "outputs": []
    },
    {
      "cell_type": "code",
      "metadata": {
        "id": "eRcXHa5ZV9zx",
        "colab_type": "code",
        "colab": {}
      },
      "source": [
        "X = []\n",
        "y = []"
      ],
      "execution_count": 0,
      "outputs": []
    },
    {
      "cell_type": "code",
      "metadata": {
        "id": "JAp9pjdlWcAP",
        "colab_type": "code",
        "colab": {}
      },
      "source": [
        "for features , label in training_Data:\n",
        "  X.append(features)\n",
        "  y.append(label)\n",
        "\n",
        "X = np.array(X).reshape(-1, img_size,img_size,3)"
      ],
      "execution_count": 0,
      "outputs": []
    },
    {
      "cell_type": "code",
      "metadata": {
        "id": "56OQnmd4WnAv",
        "colab_type": "code",
        "colab": {
          "base_uri": "https://localhost:8080/",
          "height": 34
        },
        "outputId": "081d54af-ebf8-4bc2-8bfb-89a4f460c377"
      },
      "source": [
        "X[0].shape"
      ],
      "execution_count": 82,
      "outputs": [
        {
          "output_type": "execute_result",
          "data": {
            "text/plain": [
              "(100, 100, 3)"
            ]
          },
          "metadata": {
            "tags": []
          },
          "execution_count": 82
        }
      ]
    },
    {
      "cell_type": "code",
      "metadata": {
        "id": "QPjqFJp2WqNf",
        "colab_type": "code",
        "colab": {
          "base_uri": "https://localhost:8080/",
          "height": 267
        },
        "outputId": "cc2bc746-4ace-44e9-d1b0-389c364a803d"
      },
      "source": [
        "plt.imshow(X[20000])\n",
        "plt.show()"
      ],
      "execution_count": 83,
      "outputs": [
        {
          "output_type": "display_data",
          "data": {
            "image/png": "[encoded data removed]",
            "text/plain": [
              "<Figure size 432x288 with 1 Axes>"
            ]
          },
          "metadata": {
            "tags": [],
            "needs_background": "light"
          }
        }
      ]
    },
    {
      "cell_type": "code",
      "metadata": {
        "id": "n8xSqcEOYqSm",
        "colab_type": "code",
        "colab": {
          "base_uri": "https://localhost:8080/",
          "height": 34
        },
        "outputId": "67aa8e7a-17fb-400c-db85-85d0111fb603"
      },
      "source": [
        "y = np.array(y)\n",
        "y"
      ],
      "execution_count": 84,
      "outputs": [
        {
          "output_type": "execute_result",
          "data": {
            "text/plain": [
              "array([0, 1, 0, ..., 1, 0, 1])"
            ]
          },
          "metadata": {
            "tags": []
          },
          "execution_count": 84
        }
      ]
    },
    {
      "cell_type": "code",
      "metadata": {
        "id": "vYmT9MoWYv8f",
        "colab_type": "code",
        "colab": {
          "base_uri": "https://localhost:8080/",
          "height": 34
        },
        "outputId": "eabc8ad0-5f1d-4402-9def-e0425bfd2233"
      },
      "source": [
        "y.shape"
      ],
      "execution_count": 85,
      "outputs": [
        {
          "output_type": "execute_result",
          "data": {
            "text/plain": [
              "(27558,)"
            ]
          },
          "metadata": {
            "tags": []
          },
          "execution_count": 85
        }
      ]
    },
    {
      "cell_type": "markdown",
      "metadata": {
        "id": "M2x-SBJ4Y3Ha",
        "colab_type": "text"
      },
      "source": [
        "Now we split the data into training and testing"
      ]
    },
    {
      "cell_type": "code",
      "metadata": {
        "id": "YkKhW2v7Y13t",
        "colab_type": "code",
        "colab": {
          "base_uri": "https://localhost:8080/",
          "height": 34
        },
        "outputId": "8e7f6ea0-9d7f-4755-dfac-a64e658d74b0"
      },
      "source": [
        "X_Train = X[0:19290]  # we take 70% of the data for traing\n",
        "X_Train.shape"
      ],
      "execution_count": 86,
      "outputs": [
        {
          "output_type": "execute_result",
          "data": {
            "text/plain": [
              "(19290, 100, 100, 3)"
            ]
          },
          "metadata": {
            "tags": []
          },
          "execution_count": 86
        }
      ]
    },
    {
      "cell_type": "code",
      "metadata": {
        "id": "IA81RptFZMEO",
        "colab_type": "code",
        "colab": {
          "base_uri": "https://localhost:8080/",
          "height": 34
        },
        "outputId": "5f8bf9b2-cea8-4e34-fc8e-263d8128535f"
      },
      "source": [
        "X_test = X[19290:]  # remaining 30% of the data for testing\n",
        "X_test.shape "
      ],
      "execution_count": 87,
      "outputs": [
        {
          "output_type": "execute_result",
          "data": {
            "text/plain": [
              "(8268, 100, 100, 3)"
            ]
          },
          "metadata": {
            "tags": []
          },
          "execution_count": 87
        }
      ]
    },
    {
      "cell_type": "markdown",
      "metadata": {
        "id": "eaIMsMSQZoIN",
        "colab_type": "text"
      },
      "source": [
        "now out of the training data we take some data for validation too"
      ]
    },
    {
      "cell_type": "code",
      "metadata": {
        "id": "FYnQlTf7ZdMG",
        "colab_type": "code",
        "colab": {}
      },
      "source": [
        "X_train = X_Train[0:14467]"
      ],
      "execution_count": 0,
      "outputs": []
    },
    {
      "cell_type": "code",
      "metadata": {
        "id": "P0lV0OweZtqT",
        "colab_type": "code",
        "colab": {}
      },
      "source": [
        "X_val = X_Train[14467:]"
      ],
      "execution_count": 0,
      "outputs": []
    },
    {
      "cell_type": "code",
      "metadata": {
        "id": "b4Y9CH__ZwBt",
        "colab_type": "code",
        "colab": {
          "base_uri": "https://localhost:8080/",
          "height": 34
        },
        "outputId": "f8c1c09a-541c-4235-976a-c7682f0ad3c1"
      },
      "source": [
        "X_val.shape"
      ],
      "execution_count": 90,
      "outputs": [
        {
          "output_type": "execute_result",
          "data": {
            "text/plain": [
              "(4823, 100, 100, 3)"
            ]
          },
          "metadata": {
            "tags": []
          },
          "execution_count": 90
        }
      ]
    },
    {
      "cell_type": "markdown",
      "metadata": {
        "id": "ZHpZ2w8oZ2Tl",
        "colab_type": "text"
      },
      "source": [
        "# similarly everything with y"
      ]
    },
    {
      "cell_type": "code",
      "metadata": {
        "id": "Kqy_A4EAZyWh",
        "colab_type": "code",
        "colab": {
          "base_uri": "https://localhost:8080/",
          "height": 34
        },
        "outputId": "72afe206-8a80-4bf9-d83f-9f076f5eca28"
      },
      "source": [
        "Y_Train = y[0:19290]\n",
        "Y_Train.shape"
      ],
      "execution_count": 91,
      "outputs": [
        {
          "output_type": "execute_result",
          "data": {
            "text/plain": [
              "(19290,)"
            ]
          },
          "metadata": {
            "tags": []
          },
          "execution_count": 91
        }
      ]
    },
    {
      "cell_type": "code",
      "metadata": {
        "id": "TeU3lKi5Z8ei",
        "colab_type": "code",
        "colab": {
          "base_uri": "https://localhost:8080/",
          "height": 34
        },
        "outputId": "4a47bfc3-53d8-4396-ddcf-78b0da20c668"
      },
      "source": [
        "y_test = y[19290:]\n",
        "y_test.shape"
      ],
      "execution_count": 92,
      "outputs": [
        {
          "output_type": "execute_result",
          "data": {
            "text/plain": [
              "(8268,)"
            ]
          },
          "metadata": {
            "tags": []
          },
          "execution_count": 92
        }
      ]
    },
    {
      "cell_type": "code",
      "metadata": {
        "id": "G0xMQ-uLaAa5",
        "colab_type": "code",
        "colab": {}
      },
      "source": [
        "y_train = Y_Train[0:14467] #taking out some of the data for val.."
      ],
      "execution_count": 0,
      "outputs": []
    },
    {
      "cell_type": "code",
      "metadata": {
        "id": "6RXn4ZeBaFIG",
        "colab_type": "code",
        "colab": {
          "base_uri": "https://localhost:8080/",
          "height": 34
        },
        "outputId": "0d9881f3-dccb-4181-9ed6-04c0662b8c52"
      },
      "source": [
        "y_val = Y_Train[14467:]\n",
        "y_val.shape"
      ],
      "execution_count": 96,
      "outputs": [
        {
          "output_type": "execute_result",
          "data": {
            "text/plain": [
              "(4823,)"
            ]
          },
          "metadata": {
            "tags": []
          },
          "execution_count": 96
        }
      ]
    },
    {
      "cell_type": "code",
      "metadata": {
        "id": "r7u9EklfaLvo",
        "colab_type": "code",
        "colab": {}
      },
      "source": [
        "#np.save('y_train.npy',y_train)\n",
        "#hello = np.load('y_train.npy')    # if you wanna save the file and load it somewhere else"
      ],
      "execution_count": 0,
      "outputs": []
    },
    {
      "cell_type": "code",
      "metadata": {
        "id": "36dMBe8VcsUI",
        "colab_type": "code",
        "colab": {}
      },
      "source": [
        "from tensorflow.keras.layers import BatchNormalization"
      ],
      "execution_count": 0,
      "outputs": []
    },
    {
      "cell_type": "code",
      "metadata": {
        "id": "VWfFPbYwam7d",
        "colab_type": "code",
        "colab": {}
      },
      "source": [
        "model2 = Sequential()\n",
        "\n",
        "model2.add(Conv2D(filters=32,kernel_size=(3, 3),input_shape=(img_size,img_size,3),activation='relu')) \n",
        "model2.add(BatchNormalization())\n",
        "model2.add(MaxPool2D(pool_size=(2,2)))\n",
        "model2.add(Dropout(0.2))  # dropping 20% of neurons\n",
        "\n",
        "model2.add(Conv2D(filters=64,kernel_size=(3, 3),activation='relu')) \n",
        "model2.add(BatchNormalization())\n",
        "model2.add(MaxPool2D(pool_size=(2,2)))\n",
        "model2.add(Dropout(0.3))\n",
        "\n",
        "model2.add(Conv2D(filters=128,kernel_size=(3, 3),activation='relu')) \n",
        "model2.add(BatchNormalization())\n",
        "model2.add(MaxPool2D(pool_size=(2,2)))\n",
        "model2.add(Dropout(0.4))\n",
        "\n",
        "model2.add(Flatten())\n",
        "model2.add(Dense(units=64, activation='relu'))  \n",
        "model2.add(BatchNormalization())\n",
        "model2.add(Dropout(0.5))\n",
        "\n",
        "model2.add(Dense(units=1, activation='sigmoid'))"
      ],
      "execution_count": 0,
      "outputs": []
    },
    {
      "cell_type": "code",
      "metadata": {
        "id": "-rHFH6q1dpVW",
        "colab_type": "code",
        "colab": {
          "base_uri": "https://localhost:8080/",
          "height": 763
        },
        "outputId": "c343a520-4368-43a5-8f47-b4830ba8eaac"
      },
      "source": [
        "model2.summary()"
      ],
      "execution_count": 110,
      "outputs": [
        {
          "output_type": "stream",
          "text": [
            "Model: \"sequential_4\"\n",
            "_________________________________________________________________\n",
            "Layer (type)                 Output Shape              Param #   \n",
            "=================================================================\n",
            "conv2d_9 (Conv2D)            (None, 98, 98, 32)        896       \n",
            "_________________________________________________________________\n",
            "batch_normalization_10 (Batc (None, 98, 98, 32)        128       \n",
            "_________________________________________________________________\n",
            "max_pooling2d_9 (MaxPooling2 (None, 49, 49, 32)        0         \n",
            "_________________________________________________________________\n",
            "dropout_13 (Dropout)         (None, 49, 49, 32)        0         \n",
            "_________________________________________________________________\n",
            "conv2d_10 (Conv2D)           (None, 47, 47, 64)        18496     \n",
            "_________________________________________________________________\n",
            "batch_normalization_11 (Batc (None, 47, 47, 64)        256       \n",
            "_________________________________________________________________\n",
            "max_pooling2d_10 (MaxPooling (None, 23, 23, 64)        0         \n",
            "_________________________________________________________________\n",
            "dropout_14 (Dropout)         (None, 23, 23, 64)        0         \n",
            "_________________________________________________________________\n",
            "conv2d_11 (Conv2D)           (None, 21, 21, 128)       73856     \n",
            "_________________________________________________________________\n",
            "batch_normalization_12 (Batc (None, 21, 21, 128)       512       \n",
            "_________________________________________________________________\n",
            "max_pooling2d_11 (MaxPooling (None, 10, 10, 128)       0         \n",
            "_________________________________________________________________\n",
            "dropout_15 (Dropout)         (None, 10, 10, 128)       0         \n",
            "_________________________________________________________________\n",
            "flatten_4 (Flatten)          (None, 12800)             0         \n",
            "_________________________________________________________________\n",
            "dense_8 (Dense)              (None, 64)                819264    \n",
            "_________________________________________________________________\n",
            "batch_normalization_13 (Batc (None, 64)                256       \n",
            "_________________________________________________________________\n",
            "dropout_16 (Dropout)         (None, 64)                0         \n",
            "_________________________________________________________________\n",
            "dense_9 (Dense)              (None, 1)                 65        \n",
            "=================================================================\n",
            "Total params: 913,729\n",
            "Trainable params: 913,153\n",
            "Non-trainable params: 576\n",
            "_________________________________________________________________\n"
          ],
          "name": "stdout"
        }
      ]
    },
    {
      "cell_type": "code",
      "metadata": {
        "id": "ZQD8FMPmduFu",
        "colab_type": "code",
        "colab": {}
      },
      "source": [
        "model2.compile(optimizer='adam',loss='binary_crossentropy',metrics=['accuracy'])"
      ],
      "execution_count": 0,
      "outputs": []
    },
    {
      "cell_type": "code",
      "metadata": {
        "id": "OwZBssGDd4Mc",
        "colab_type": "code",
        "colab": {
          "base_uri": "https://localhost:8080/",
          "height": 338
        },
        "outputId": "35cd9085-ced9-4361-d3be-7cb9658047d1"
      },
      "source": [
        "history_2 = model2.fit(X_train,y_train,batch_size=32,epochs=7,verbose=1,validation_data=(X_val,y_val))"
      ],
      "execution_count": 112,
      "outputs": [
        {
          "output_type": "stream",
          "text": [
            "Train on 14467 samples, validate on 4823 samples\n",
            "Epoch 1/7\n",
            "WARNING:tensorflow:Entity <function Function._initialize_uninitialized_variables.<locals>.initialize_variables at 0x7f5591cb32f0> could not be transformed and will be executed as-is. Please report this to the AutoGraph team. When filing the bug, set the verbosity to 10 (on Linux, `export AUTOGRAPH_VERBOSITY=10`) and attach the full output. Cause: module 'gast' has no attribute 'Num'\n",
            "WARNING: Entity <function Function._initialize_uninitialized_variables.<locals>.initialize_variables at 0x7f5591cb32f0> could not be transformed and will be executed as-is. Please report this to the AutoGraph team. When filing the bug, set the verbosity to 10 (on Linux, `export AUTOGRAPH_VERBOSITY=10`) and attach the full output. Cause: module 'gast' has no attribute 'Num'\n",
            "14467/14467 [==============================] - 10s 665us/sample - loss: 0.6311 - accuracy: 0.7055 - val_loss: 1.3433 - val_accuracy: 0.5758\n",
            "Epoch 2/7\n",
            "14467/14467 [==============================] - 8s 576us/sample - loss: 0.2967 - accuracy: 0.8895 - val_loss: 0.4554 - val_accuracy: 0.8868\n",
            "Epoch 3/7\n",
            "14467/14467 [==============================] - 8s 579us/sample - loss: 0.2161 - accuracy: 0.9261 - val_loss: 0.3595 - val_accuracy: 0.8911\n",
            "Epoch 4/7\n",
            "14467/14467 [==============================] - 8s 579us/sample - loss: 0.1905 - accuracy: 0.9353 - val_loss: 0.2971 - val_accuracy: 0.9146\n",
            "Epoch 5/7\n",
            "14467/14467 [==============================] - 8s 578us/sample - loss: 0.1704 - accuracy: 0.9420 - val_loss: 0.4713 - val_accuracy: 0.8692\n",
            "Epoch 6/7\n",
            "14467/14467 [==============================] - 8s 577us/sample - loss: 0.1649 - accuracy: 0.9448 - val_loss: 0.1891 - val_accuracy: 0.9380\n",
            "Epoch 7/7\n",
            "14467/14467 [==============================] - 8s 584us/sample - loss: 0.1624 - accuracy: 0.9461 - val_loss: 0.1944 - val_accuracy: 0.9363\n"
          ],
          "name": "stdout"
        }
      ]
    },
    {
      "cell_type": "code",
      "metadata": {
        "id": "PNhnpQb7ekcL",
        "colab_type": "code",
        "colab": {}
      },
      "source": [
        "model2.evaluate(X_test,y_test,verbose=1)  # output of this is loss , accuracy value respectively \n",
        "# here it loss = 0.2 , accuracy = 0.9351"
      ],
      "execution_count": 0,
      "outputs": []
    },
    {
      "cell_type": "code",
      "metadata": {
        "id": "2kPflzcGi8PE",
        "colab_type": "code",
        "colab": {
          "base_uri": "https://localhost:8080/",
          "height": 34
        },
        "outputId": "dc4d66b2-dfb6-4ecc-cea9-07ce9ae03ae9"
      },
      "source": [
        "len(X_test)"
      ],
      "execution_count": 143,
      "outputs": [
        {
          "output_type": "execute_result",
          "data": {
            "text/plain": [
              "8268"
            ]
          },
          "metadata": {
            "tags": []
          },
          "execution_count": 143
        }
      ]
    },
    {
      "cell_type": "code",
      "metadata": {
        "id": "5KaOwldbhsbb",
        "colab_type": "code",
        "colab": {}
      },
      "source": [
        "def to_pred_test(X_test):\n",
        "  testing = tf.cast(X_test, tf.float32)\n",
        "  return testing"
      ],
      "execution_count": 0,
      "outputs": []
    },
    {
      "cell_type": "code",
      "metadata": {
        "id": "tv82grXqjTkf",
        "colab_type": "code",
        "outputId": "b1463e25-c9ea-4ad3-8039-e94b3d3371bd",
        "colab": {
          "base_uri": "https://localhost:8080/",
          "height": 141
        }
      },
      "source": [
        "y_pred = model2.predict(to_pred_test(X_test))\n",
        "print(y_pred)"
      ],
      "execution_count": 138,
      "outputs": [
        {
          "output_type": "stream",
          "text": [
            "[[0.98583436]\n",
            " [0.00198051]\n",
            " [0.07984358]\n",
            " ...\n",
            " [0.99875426]\n",
            " [0.2594263 ]\n",
            " [0.99864864]]\n"
          ],
          "name": "stdout"
        }
      ]
    },
    {
      "cell_type": "markdown",
      "metadata": {
        "id": "oXCC2zXikKIV",
        "colab_type": "text"
      },
      "source": [
        "Plotting the learning curve"
      ]
    },
    {
      "cell_type": "code",
      "metadata": {
        "id": "mMbIziwhjjA0",
        "colab_type": "code",
        "colab": {
          "base_uri": "https://localhost:8080/",
          "height": 514
        },
        "outputId": "de3e1f6b-557b-4735-c91d-6668da9e6163"
      },
      "source": [
        "history_2.history"
      ],
      "execution_count": 134,
      "outputs": [
        {
          "output_type": "execute_result",
          "data": {
            "text/plain": [
              "{'accuracy': [0.70546764,\n",
              "  0.8894726,\n",
              "  0.9261077,\n",
              "  0.935301,\n",
              "  0.94200593,\n",
              "  0.94483995,\n",
              "  0.9460842],\n",
              " 'loss': [0.6310566879591055,\n",
              "  0.29671007487452966,\n",
              "  0.2161377642826178,\n",
              "  0.1904845655886564,\n",
              "  0.17042492042186388,\n",
              "  0.1648706063654462,\n",
              "  0.16240182118465232],\n",
              " 'val_accuracy': [0.5757827,\n",
              "  0.8867925,\n",
              "  0.8911466,\n",
              "  0.914576,\n",
              "  0.8691686,\n",
              "  0.9380054,\n",
              "  0.93634665],\n",
              " 'val_loss': [1.3433165346935976,\n",
              "  0.4554358650398235,\n",
              "  0.3595063009438563,\n",
              "  0.29710773440093735,\n",
              "  0.4713378825110814,\n",
              "  0.18906833389250663,\n",
              "  0.19436512053439214]}"
            ]
          },
          "metadata": {
            "tags": []
          },
          "execution_count": 134
        }
      ]
    },
    {
      "cell_type": "code",
      "metadata": {
        "id": "v3n6wjREkRLq",
        "colab_type": "code",
        "colab": {}
      },
      "source": [
        "def plot_learningcurve(history, epochs):\n",
        "  epochs_range = (1, epochs+1)\n",
        "  plt.plot(history.history['accuracy'],)\n",
        "  plt.plot(history.history['val_accuracy'])\n",
        "  plt.title('Model accuracy',color = 'white')\n",
        "  plt.ylabel('Accuracy',color = 'white')\n",
        "  plt.xlabel('Epoch',color = 'white')\n",
        "  plt.legend(['Train','Val'],loc = 'upper left')\n",
        "  plt.show()\n",
        "\n",
        "  print('* *'*50)\n",
        "  #plot training and validation ( loss values )\n",
        "  plt.plot(history.history['loss'])\n",
        "  plt.plot(history.history['val_loss'])\n",
        "  plt.title('Model loss',color = 'white')\n",
        "  plt.ylabel('Loss',color = 'white')\n",
        "  plt.xlabel('Epoch',color = 'white')\n",
        "  plt.legend(['Train','Val'],loc = 'upper left')\n",
        "  plt.show()"
      ],
      "execution_count": 0,
      "outputs": []
    },
    {
      "cell_type": "code",
      "metadata": {
        "id": "ckWlbPi4kfaO",
        "colab_type": "code",
        "colab": {
          "base_uri": "https://localhost:8080/",
          "height": 611
        },
        "outputId": "77b07244-7822-4df6-f75f-825867991ffa"
      },
      "source": [
        "plot_learningcurve(history_2,7)"
      ],
      "execution_count": 136,
      "outputs": [
        {
          "output_type": "display_data",
          "data": {
            "image/png": "[encoded data removed]",
            "text/plain": [
              "<Figure size 432x288 with 1 Axes>"
            ]
          },
          "metadata": {
            "tags": [],
            "needs_background": "light"
          }
        },
        {
          "output_type": "stream",
          "text": [
            "* ** ** ** ** ** ** ** ** ** ** ** ** ** ** ** ** ** ** ** ** ** ** ** ** ** ** ** ** ** ** ** ** ** ** ** ** ** ** ** ** ** ** ** ** ** ** ** ** ** *\n"
          ],
          "name": "stdout"
        },
        {
          "output_type": "display_data",
          "data": {
            "image/png": "[encoded data removed]",
            "text/plain": [
              "<Figure size 432x288 with 1 Axes>"
            ]
          },
          "metadata": {
            "tags": [],
            "needs_background": "light"
          }
        }
      ]
    }
  ]
}